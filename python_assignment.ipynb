{
 "cells": [
  {
   "cell_type": "markdown",
   "metadata": {
    "id": "BKCrcukdE8Bb"
   },
   "source": [
    "# Assignment: Classification\n",
    "\n",
    "Classification refers to categorizing the given data into classes. For example,\n",
    "- Given an image of hand-written character, identifying the character (multi-class classification)\n",
    "- Given an image, annotating it with all the objects present in the image (multi-label classification)\n",
    "- Classifying an email as spam or non-spam (binary classification)\n",
    "- Classifying a tumor as benign or malignant and so on\n",
    "\n",
    "In this assignment, we will be building a classifier to classify emails as spam or non-spam. We will be using the Kaggle dataset [Spam or Not Spam Dataset](https://www.kaggle.com/datasets/ozlerhakan/spam-or-not-spam-dataset?resource=download) for this task. \n",
    "\n",
    "**Note**: You cannot load any libraries other than the mentioned ones.\n",
    "\n",
    "\n"
   ]
  },
  {
   "cell_type": "markdown",
   "metadata": {
    "id": "Irp6f7_2crfu"
   },
   "source": [
    "### Data pre-processing\n",
    "The first step in every machine learning algorithm is to process the raw data in some meaningful representations. We will be using the [Bag-of-Words](https://towardsdatascience.com/a-simple-explanation-of-the-bag-of-words-model-b88fc4f4971) representation to process the text. It comprises of following steps:\n",
    "\n",
    "- Process emails line-by-line to extract all the words.\n",
    "- Replace extracted words by their stem (root) word. This is known as stemming and lematization.\n",
    "- Remove stop words like and, or, is, am, and so on.\n",
    "- Assign a unique index to each word. This forms the vocabulary.\n",
    "- Represent each email as a binary vector of length equal to the size of the vocabulary such that the $i^{th}$ element of the vector is 1 iff the $i^th$ word is present in the email.\n",
    "\n",
    "Here we provide you with the function signature along with the expected functionality. You are expected to complete them accordingly. "
   ]
  },
  {
   "cell_type": "code",
   "execution_count": null,
   "metadata": {
    "id": "wIlTOyyPn-mN"
   },
   "outputs": [],
   "source": [
    "import numpy as np\n",
    "from nltk.stem import PorterStemmer\n",
    "from nltk.corpus import stopwords\n",
    "# import nltk\n",
    "# nltk.download('punkt')\n",
    "# nltk.download('wordnet')\n",
    "# nltk.download('omw-1.4')\n",
    "# nltk.download('stopwords')\n",
    "\n",
    "vocabulary = []\n",
    "stemmer = PorterStemmer()\n",
    "stop = stopwords.words()\n",
    "\n",
    "# takes an email as an argument\n",
    "# read email line-by-line and extract all the words\n",
    "# return list of extracted words\n",
    "def read_email(email):\n",
    "    words = email.split()\n",
    "    return words\n",
    "\n",
    "# takes a list of words as an argument\n",
    "# replace each word by their stem word\n",
    "# return list of stem words\n",
    "def stemming(words):\n",
    "    stem_words = [stemmer.stem(word) for word in words]\n",
    "    return stem_words\n",
    "\n",
    "# takes a list of stem-words as an argument\n",
    "# remove stop words\n",
    "# return list of stem words after removing stop words\n",
    "def remove_stop_words(words):\n",
    "    stem_no_stop_words = []\n",
    "    for word in words:\n",
    "        if word not in stop:\n",
    "            stem_no_stop_words.append(word)\n",
    "    return stem_no_stop_words\n",
    "\n",
    "# takes a list of stem-words as an argument\n",
    "# add new words to the vocabulary and assign a unique index to them\n",
    "# returns new vocabulary\n",
    "def build_vocabulary(words):\n",
    "    for word in words:\n",
    "        if(word not in vocabulary):\n",
    "            vocabulary.append(word)\n",
    "    return vocabulary\n",
    "\n",
    " # takes a list of stem-words and vocabulary as an argument\n",
    "# returns bow representation\n",
    "def get_bow(words, vocabWords):\n",
    "    email_bow = [0]*(len(vocabWords)+1)\n",
    "    for word in words:\n",
    "        email_bow[vocabWords.index(word)+1] = 1\n",
    "    return email_bow\n",
    "\n",
    "# wrapper function\n",
    "def text_to_bow(email):\n",
    "    words = remove_stop_words(stemming(read_email(email)))\n",
    "    bow = get_bow(words, build_vocabulary(words))\n",
    "    return bow\n",
    "\n",
    "# read the entire dataset\n",
    "# convert emails to bow and maintain their labels\n",
    "# call function text_to_bow()\n",
    "def read_data():\n",
    "    inputFileName = str(input(\"Please type the email file name you want to check for spam: \"))\n",
    "    data = np.genfromtxt(inputFileName, encoding = \"utf8\", dtype = \"str\", delimiter = \",\")\n",
    "    newData = []\n",
    "    for i in range(0,len(data)):\n",
    "        if i == 0:\n",
    "            continue\n",
    "        newData.append([text_to_bow(data[i][0]),int(data[i][1].rstrip())])\n",
    "    for i in range(0,len(newData)):\n",
    "        newData[i][0] += [0]*(len(vocabulary)+1-len(newData[i][0]))\n",
    "    return newData\n",
    "\n",
    "data = read_data()"
   ]
  },
  {
   "cell_type": "markdown",
   "metadata": {
    "id": "d0cDiGt6nkPY"
   },
   "source": [
    "### Data Visualization\n",
    "Let's understand the data distribution\n",
    "- Visualize the frequency of word-occurrence in all the emails(spam + non-spam)\n",
    "- Visualize the frequency of word-occurrence for spam and non-spam emails separately"
   ]
  },
  {
   "cell_type": "code",
   "execution_count": null,
   "metadata": {
    "id": "4vJLcTxDLZsh"
   },
   "outputs": [],
   "source": [
    "import matplotlib.pyplot as plt\n",
    "\n",
    "# visuallze data distribution\n",
    "def data_vis(data):\n",
    "\n",
    "    sum = np.array([0]*(len(vocabulary)+1))\n",
    "    sum_spam = np.array([0]*(len(vocabulary)+1))\n",
    "    sum_non_spam = np.array([0]*(len(vocabulary)+1))\n",
    "\n",
    "    for line in data:\n",
    "        if(line[1]==1):\n",
    "            sum_spam += np.array(line[0])\n",
    "        else:\n",
    "            sum_non_spam += np.array(line[0])\n",
    "            sum += np.array(line[0])\n",
    "    \n",
    "    fig = plt.figure(figsize = (16, 9))\n",
    "    plt.bar(vocabulary, sum[1:], color ='blue', width = 0.1)\n",
    "    plt.xlabel(\"Vocabulary\")\n",
    "    plt.ylabel(\"Frequency\")\n",
    "    plt.title(\"Data Visualization of frequency of word-occurrence in all the emails\")\n",
    "    ax = plt.gca()\n",
    "    ax.axes.xaxis.set_ticklabels([])\n",
    "    # ax.axes.yaxis.set_ticklabels([])\n",
    "    plt.show()\n",
    "    return\n",
    "\n",
    "data_vis(data)"
   ]
  },
  {
   "cell_type": "markdown",
   "metadata": {
    "id": "LPq-3nTzGcdX"
   },
   "source": [
    "### Learn a Classifier\n",
    "Split the dataset randomly in the ratio 80:20 as the training and test dataset. Use only training dataset to learn the classifier. No test data should be used during training. Test data will only be used during evaluation.\n",
    "\n",
    "Now let us try to use ML algorithms to classify emails as spam or non-spam. You are supposed to implement [SVM](https://scikit-learn.org/stable/modules/svm.html) and [K-Nearest Neighbour](https://scikit-learn.org/stable/modules/generated/sklearn.neighbors.KNeighborsClassifier.html) algorithm available in scikit-learn using the same training dataset for both."
   ]
  },
  {
   "cell_type": "code",
   "execution_count": null,
   "metadata": {
    "id": "IMpuaPCKHxwh"
   },
   "outputs": [],
   "source": [
    "from sklearn.neighbors import KNeighborsClassifier\n",
    "from sklearn import svm\n",
    "\n",
    "# split dataset\n",
    "def split(data):\n",
    "    mask = np.random.rand(len(data)) <= 0.8\n",
    "    train_data = data[mask]\n",
    "    test_data = data[~mask]\n",
    "    return train_data, test_data\n",
    "\n",
    "# learn a SVM model\n",
    "# use the model to make prediction\n",
    "# return the model predictions on train and test dataset\n",
    "def svm_classifier(train_data, test_data):\n",
    "    emails = train_data[:][0]\n",
    "    label = train_data[:][1]\n",
    "    clf = svm.SVC()\n",
    "    clf.fit(emails, label)\n",
    "    predict_labels = clf.predict(test_data[:][0])\n",
    "    return predict_labels\n",
    "\n",
    "# implement k-NN algorithm\n",
    "# use the model to make prediction\n",
    "# return the model predictions on train and test dataset\n",
    "def knn_classifier(train_data, test_data):\n",
    "    emails = train_data[:][0]\n",
    "    label = train_data[:][1]\n",
    "    neigh = KNeighborsClassifier(n_neighbors=3)\n",
    "    neigh.fit(emails, label)\n",
    "    predict_labels = neigh.predict(test_data[:][0])\n",
    "    return predict_labels\n",
    "\n",
    "train_data, test_data = split(data)\n",
    "svm_train_predictions, svm_test_predictions = svm_classifier(train_data, test_data)\n",
    "knn_train_predictions, knn_test_predictions = knn_classifier(train_data, test_data)"
   ]
  },
  {
   "cell_type": "markdown",
   "metadata": {
    "id": "SlCwYvluHqQz"
   },
   "source": [
    "### Model Evaluation\n",
    "Compare the SVM and k-NN model using metrics\n",
    "- Accuracy\n",
    "- [AUC score](https://scikit-learn.org/stable/modules/generated/sklearn.metrics.auc.html)\n"
   ]
  },
  {
   "cell_type": "code",
   "execution_count": null,
   "metadata": {
    "id": "X3KmcTpqKbGI"
   },
   "outputs": [],
   "source": [
    "from sklearn import metrics\n",
    "\n",
    "# compute accuracy \n",
    "def compute_accuracy(true_labels, predicted_labels):\n",
    "    acc = metrics.accuracy_score(true_labels, predicted_labels)\n",
    "    return acc\n",
    "\n",
    "# compute AUC score \n",
    "def compute_auc(true_labels, predicted_labels):\n",
    "    auc = metrics.roc_auc_score(true_labels, predicted_labels)\n",
    "    return auc\n",
    "\n",
    "# write code to print train and test accuracy and AUC score of SVM and k-NN classifier\n",
    "def print_metrics(true_labels, predicted_labels,model,dataType):\n",
    "    print(f\"Accuracy of {model} for {dataType}: {compute_accuracy(true_labels, predicted_labels)}%\")\n",
    "    print(f\"Area Under the Curve of {model} for {dataType}: {compute_auc(true_labels, predicted_labels)}\")\n",
    "\n",
    "print_metrics(train_data[:][1],svm_test_predictions,\"SVM\",\"train data\")\n",
    "print_metrics(train_data[:][1],knn_test_predictions,\"KNN\",\"train data\")\n",
    "print_metrics(test_data[:][1],svm_test_predictions,\"SVM\",\"test data\")\n",
    "print_metrics(test_data[:][1],knn_test_predictions,\"KNN\",\"test data\")"
   ]
  },
  {
   "cell_type": "code",
   "execution_count": null,
   "metadata": {},
   "outputs": [],
   "source": [
    "plt.style.use('_mpl-gallery')\n",
    "fig, ax = plt.subplots()\n",
    "ax.hist(x, bins=8, linewidth=0.5, edgecolor=\"white\")\n",
    "ax.set(xlim=(0, 80), xticks=np.arange(1, 80),\n",
    "       ylim=(0, 56), yticks=np.linspace(0, 56, 9))\n",
    "ax.axes.xaxis.set_ticklabels([])\n",
    "plt.show()"
   ]
  }
 ],
 "metadata": {
  "colab": {
   "collapsed_sections": [],
   "name": "python-assignment.ipynb",
   "provenance": []
  },
  "kernelspec": {
   "display_name": "Python 3",
   "name": "python3"
  },
  "language_info": {
   "codemirror_mode": {
    "name": "ipython",
    "version": 3
   },
   "file_extension": ".py",
   "mimetype": "text/x-python",
   "name": "python",
   "nbconvert_exporter": "python",
   "pygments_lexer": "ipython3",
   "version": "3.8.8"
  }
 },
 "nbformat": 4,
 "nbformat_minor": 0
}
