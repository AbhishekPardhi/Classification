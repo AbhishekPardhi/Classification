{
 "cells": [
  {
   "cell_type": "markdown",
   "metadata": {
    "id": "BKCrcukdE8Bb"
   },
   "source": [
    "# Assignment: Classification\n",
    "\n",
    "Classification refers to categorizing the given data into classes. For example,\n",
    "- Given an image of hand-written character, identifying the character (multi-class classification)\n",
    "- Given an image, annotating it with all the objects present in the image (multi-label classification)\n",
    "- Classifying an email as spam or non-spam (binary classification)\n",
    "- Classifying a tumor as benign or malignant and so on\n",
    "\n",
    "In this assignment, we will be building a classifier to classify emails as spam or non-spam. We will be using the Kaggle dataset [Spam or Not Spam Dataset](https://www.kaggle.com/datasets/ozlerhakan/spam-or-not-spam-dataset?resource=download) for this task. \n",
    "\n",
    "**Note**: You cannot load any libraries other than the mentioned ones.\n",
    "\n",
    "\n"
   ]
  },
  {
   "cell_type": "markdown",
   "metadata": {
    "id": "Irp6f7_2crfu"
   },
   "source": [
    "### Data pre-processing\n",
    "The first step in every machine learning algorithm is to process the raw data in some meaningful representations. We will be using the [Bag-of-Words](https://towardsdatascience.com/a-simple-explanation-of-the-bag-of-words-model-b88fc4f4971) representation to process the text. It comprises of following steps:\n",
    "\n",
    "- Process emails line-by-line to extract all the words.\n",
    "- Replace extracted words by their stem (root) word. This is known as stemming and lematization.\n",
    "- Remove stop words like and, or, is, am, and so on.\n",
    "- Assign a unique index to each word. This forms the vocabulary.\n",
    "- Represent each email as a binary vector of length equal to the size of the vocabulary such that the $i^{th}$ element of the vector is 1 iff the $i^th$ word is present in the email.\n",
    "\n",
    "Here we provide you with the function signature along with the expected functionality. You are expected to complete them accordingly. "
   ]
  },
  {
   "cell_type": "code",
   "execution_count": 5,
   "metadata": {
    "id": "wIlTOyyPn-mN"
   },
   "outputs": [],
   "source": [
    "import numpy as np\n",
    "from nltk.stem import PorterStemmer, WordNetLemmatizer\n",
    "from nltk.corpus import stopwords\n",
    "from nltk.tokenize import sent_tokenize, word_tokenize\n",
    "# import nltk\n",
    "# nltk.download('punkt')\n",
    "\n",
    "vocabulary = []\n",
    "\n",
    "# takes an email as an argument\n",
    "# read email line-by-line and extract all the words\n",
    "# return list of extracted words\n",
    "def read_email(email):\n",
    "    words = []\n",
    "    words.extend(word_tokenize(email))\n",
    "    # for word in words:\n",
    "    #     print(word)\n",
    "    return words\n",
    "\n",
    "# takes a list of words as an argument\n",
    "# replace each word by their stem word\n",
    "# return list of stem words\n",
    "def stemming(words):\n",
    "    stemmer = PorterStemmer()\n",
    "    lemmatizer = WordNetLemmatizer()\n",
    "    lemmatized_words = [lemmatizer.lemmatize(word) for word in words]\n",
    "    stem_words = [stemmer.stem(word) for word in lemmatized_words]\n",
    "    return stem_words\n",
    "\n",
    "# takes a list of stem-words as an argument\n",
    "# remove stop words\n",
    "# return list of stem words after removing stop words\n",
    "def remove_stop_words(words):\n",
    "    stem_no_stop_words = []\n",
    "    for word in words:\n",
    "        if word.casefold() not in stopwords:\n",
    "            stem_no_stop_words.append(word)\n",
    "    return stem_no_stop_words\n",
    "\n",
    "# takes a list of stem-words as an argument\n",
    "# add new words to the vocabulary and assign a unique index to them\n",
    "# returns new vocabulary\n",
    "def build_vocabulary(words):\n",
    "    for word in words:\n",
    "        if(word not in vocabulary):\n",
    "            vocabulary.append(word)\n",
    "    vocab = vocabulary.copy()\n",
    "    return vocab\n",
    "\n",
    "# takes a list of stem-words and vocabulary as an argument\n",
    "# returns bow representation\n",
    "def get_bow(words, vocabWords):\n",
    "    email_bow = [0]*len(vocabWords)\n",
    "    for word in words:\n",
    "        email_bow[vocabWords.index(word)] = 1\n",
    "    return email_bow\n",
    "\n",
    "# wrapper function\n",
    "def text_to_bow(email):\n",
    "    words = remove_stop_words(stemming(read_email(email)))\n",
    "    bow = get_bow(words, build_vocabulary(words))\n",
    "    return bow\n",
    "\n",
    "# read the entire dataset\n",
    "# convert emails to bow and maintain their labels\n",
    "# call function text_to_bow()\n",
    "def read_data():\n",
    "    inputFileName = str(input(\"Please type the email file name you want to check for spam: \"))\n",
    "    with open(inputFileName, encoding=\"utf8\") as inputFile:\n",
    "        lines = inputFile.readlines()\n",
    "    data = np.array([[],[]])\n",
    "    for line in lines:\n",
    "        if line == lines[0]:\n",
    "            continue\n",
    "        fields = line.split(\",\")\n",
    "        data = np.vstack((data,np.array([[fields[0]],[fields[1]]])))\n",
    "    newData = data.copy()\n",
    "    for email in data:\n",
    "        np.append(email,text_to_bow(email[0]))\n",
    "\n",
    "    inputFile.close()\n",
    "    return newData"
   ]
  },
  {
   "cell_type": "markdown",
   "metadata": {
    "id": "d0cDiGt6nkPY"
   },
   "source": [
    "### Data Visualization\n",
    "Let's understand the data distribution\n",
    "- Visualize the frequency of word-occurence in all the emails(spam + non-spam)\n",
    "- Visualize the freuency of word-occurence for spam and non-spam emails separately"
   ]
  },
  {
   "cell_type": "code",
   "execution_count": 6,
   "metadata": {
    "id": "4vJLcTxDLZsh"
   },
   "outputs": [
    {
     "ename": "ValueError",
     "evalue": "all the input array dimensions for the concatenation axis must match exactly, but along dimension 1, the array at index 0 has size 0 and the array at index 1 has size 1",
     "output_type": "error",
     "traceback": [
      "\u001b[1;31m---------------------------------------------------------------------------\u001b[0m",
      "\u001b[1;31mValueError\u001b[0m                                Traceback (most recent call last)",
      "\u001b[1;32mc:\\Users\\abhip\\OneDrive - IIT Kanpur\\Docs\\Classification\\python_assignment.ipynb Cell 5'\u001b[0m in \u001b[0;36m<cell line: 58>\u001b[1;34m()\u001b[0m\n\u001b[0;32m     <a href='vscode-notebook-cell:/c%3A/Users/abhip/OneDrive%20-%20IIT%20Kanpur/Docs/Classification/python_assignment.ipynb#ch0000004?line=53'>54</a>\u001b[0m     plt\u001b[39m.\u001b[39mshow()\n\u001b[0;32m     <a href='vscode-notebook-cell:/c%3A/Users/abhip/OneDrive%20-%20IIT%20Kanpur/Docs/Classification/python_assignment.ipynb#ch0000004?line=55'>56</a>\u001b[0m     \u001b[39mreturn\u001b[39;00m\n\u001b[1;32m---> <a href='vscode-notebook-cell:/c%3A/Users/abhip/OneDrive%20-%20IIT%20Kanpur/Docs/Classification/python_assignment.ipynb#ch0000004?line=57'>58</a>\u001b[0m data_vis(read_data())\n",
      "\u001b[1;32mc:\\Users\\abhip\\OneDrive - IIT Kanpur\\Docs\\Classification\\python_assignment.ipynb Cell 3'\u001b[0m in \u001b[0;36mread_data\u001b[1;34m()\u001b[0m\n\u001b[0;32m     <a href='vscode-notebook-cell:/c%3A/Users/abhip/OneDrive%20-%20IIT%20Kanpur/Docs/Classification/python_assignment.ipynb#ch0000002?line=73'>74</a>\u001b[0m         \u001b[39mcontinue\u001b[39;00m\n\u001b[0;32m     <a href='vscode-notebook-cell:/c%3A/Users/abhip/OneDrive%20-%20IIT%20Kanpur/Docs/Classification/python_assignment.ipynb#ch0000002?line=74'>75</a>\u001b[0m     fields \u001b[39m=\u001b[39m line\u001b[39m.\u001b[39msplit(\u001b[39m\"\u001b[39m\u001b[39m,\u001b[39m\u001b[39m\"\u001b[39m)\n\u001b[1;32m---> <a href='vscode-notebook-cell:/c%3A/Users/abhip/OneDrive%20-%20IIT%20Kanpur/Docs/Classification/python_assignment.ipynb#ch0000002?line=75'>76</a>\u001b[0m     data \u001b[39m=\u001b[39m np\u001b[39m.\u001b[39;49mvstack((data,np\u001b[39m.\u001b[39;49marray([[fields[\u001b[39m0\u001b[39;49m]],[fields[\u001b[39m1\u001b[39;49m]]])))\n\u001b[0;32m     <a href='vscode-notebook-cell:/c%3A/Users/abhip/OneDrive%20-%20IIT%20Kanpur/Docs/Classification/python_assignment.ipynb#ch0000002?line=76'>77</a>\u001b[0m newData \u001b[39m=\u001b[39m data\u001b[39m.\u001b[39mcopy()\n\u001b[0;32m     <a href='vscode-notebook-cell:/c%3A/Users/abhip/OneDrive%20-%20IIT%20Kanpur/Docs/Classification/python_assignment.ipynb#ch0000002?line=77'>78</a>\u001b[0m \u001b[39mfor\u001b[39;00m email \u001b[39min\u001b[39;00m data:\n",
      "File \u001b[1;32m<__array_function__ internals>:180\u001b[0m, in \u001b[0;36mvstack\u001b[1;34m(*args, **kwargs)\u001b[0m\n",
      "File \u001b[1;32mc:\\Users\\abhip\\OneDrive - IIT Kanpur\\Docs\\Classification\\venv\\lib\\site-packages\\numpy\\core\\shape_base.py:282\u001b[0m, in \u001b[0;36mvstack\u001b[1;34m(tup)\u001b[0m\n\u001b[0;32m    <a href='file:///c%3A/Users/abhip/OneDrive%20-%20IIT%20Kanpur/Docs/Classification/venv/lib/site-packages/numpy/core/shape_base.py?line=279'>280</a>\u001b[0m \u001b[39mif\u001b[39;00m \u001b[39mnot\u001b[39;00m \u001b[39misinstance\u001b[39m(arrs, \u001b[39mlist\u001b[39m):\n\u001b[0;32m    <a href='file:///c%3A/Users/abhip/OneDrive%20-%20IIT%20Kanpur/Docs/Classification/venv/lib/site-packages/numpy/core/shape_base.py?line=280'>281</a>\u001b[0m     arrs \u001b[39m=\u001b[39m [arrs]\n\u001b[1;32m--> <a href='file:///c%3A/Users/abhip/OneDrive%20-%20IIT%20Kanpur/Docs/Classification/venv/lib/site-packages/numpy/core/shape_base.py?line=281'>282</a>\u001b[0m \u001b[39mreturn\u001b[39;00m _nx\u001b[39m.\u001b[39;49mconcatenate(arrs, \u001b[39m0\u001b[39;49m)\n",
      "File \u001b[1;32m<__array_function__ internals>:180\u001b[0m, in \u001b[0;36mconcatenate\u001b[1;34m(*args, **kwargs)\u001b[0m\n",
      "\u001b[1;31mValueError\u001b[0m: all the input array dimensions for the concatenation axis must match exactly, but along dimension 1, the array at index 0 has size 0 and the array at index 1 has size 1"
     ]
    }
   ],
   "source": [
    "import matplotlib.pyplot as plt\n",
    "\n",
    "# visuallze data distribution\n",
    "def data_vis(data):\n",
    "    # plt.style.use('_mpl-gallery')\n",
    "\n",
    "    sum_spam = [0]*len(vocabulary)\n",
    "    sum_non_spam = [0]*len(vocabulary)\n",
    "\n",
    "    sum = np.sum(data[:][2],axis = 0)\n",
    "    for line in data:\n",
    "        if(line[1]==1):\n",
    "            sum_spam += line[2]\n",
    "        else:\n",
    "            sum_non_spam += line[2]\n",
    "\n",
    "    fig = plt.figure(figsize = (10, 5))\n",
    "    plt.bar(vocabulary, sum, color ='blue', width = 0.4)\n",
    "    plt.xlabel(\"Vocabulary\")\n",
    "    plt.ylabel(\"Frequency\")\n",
    "    plt.title(\"Data Visualization of frequency of word-occurrence in all the emails\")\n",
    "    plt.show()\n",
    "\n",
    "    fig = plt.figure(figsize = (10, 5))\n",
    "    plt.bar(vocabulary, sum_spam, color ='red', width = 0.4)\n",
    "    plt.xlabel(\"Vocabulary\")\n",
    "    plt.ylabel(\"Frequency\")\n",
    "    plt.title(\"Data Visualization of frequency of word-occurrence in spam emails\")\n",
    "    plt.show()\n",
    "\n",
    "    fig = plt.figure(figsize = (10, 5))\n",
    "    plt.bar(vocabulary, sum_non_spam, color ='green', width = 0.4)\n",
    "    plt.xlabel(\"Vocabulary\")\n",
    "    plt.ylabel(\"Frequency\")\n",
    "    plt.title(\"Data Visualization of frequency of word-occurrence in non-spam emails\")\n",
    "    plt.show()\n",
    "\n",
    "    fig, ax = plt.subplots(figsize =(16, 9))\n",
    "    ax.barh(vocabulary, sum)\n",
    "    for s in ['top', 'bottom', 'left', 'right']:\n",
    "        ax.spines[s].set_visible(False)\n",
    "    ax.xaxis.set_ticks_position('none')\n",
    "    ax.yaxis.set_ticks_position('none')\n",
    "    ax.xaxis.set_tick_params(pad = 5)\n",
    "    ax.yaxis.set_tick_params(pad = 10)\n",
    "    ax.invert_yaxis()\n",
    "    for i in ax.patches:\n",
    "        plt.text(i.get_width()+0.2, i.get_y()+0.5,\n",
    "             str(round((i.get_width()), 2)),\n",
    "             fontsize = 10, fontweight ='bold',\n",
    "             color ='grey')\n",
    "    ax.set_title('Frequency of words-occurrence in all the mails',\n",
    "             loc ='left', )\n",
    "    plt.show()\n",
    "\n",
    "    return\n",
    "\n",
    "data_vis(read_data())"
   ]
  },
  {
   "cell_type": "markdown",
   "metadata": {
    "id": "LPq-3nTzGcdX"
   },
   "source": [
    "### Learn a Classifier\n",
    "Split the dataset randomly in the ratio 80:20 as the training and test dataset. Use only training dataset to learn the classifier. No test data should be used during training. Test data will only be used during evaluation.\n",
    "\n",
    "Now let us try to use ML algorithms to classify emails as spam or non-spam. You are supposed to implement [SVM](https://scikit-learn.org/stable/modules/svm.html) and [K-Nearest Neighbour](https://scikit-learn.org/stable/modules/generated/sklearn.neighbors.KNeighborsClassifier.html) algorithm available in scikit-learn using the same training dataset for both."
   ]
  },
  {
   "cell_type": "code",
   "execution_count": null,
   "metadata": {
    "id": "IMpuaPCKHxwh"
   },
   "outputs": [],
   "source": [
    "from sklearn.neighbors import KNeighborsClassifier\n",
    "from sklearn import svm\n",
    "\n",
    "# split dataset\n",
    "def split(data):\n",
    "    mask = np.random.rand(len(data)) <= 0.8\n",
    "    train_data = data[mask]\n",
    "    test_data = data[~mask]\n",
    "    return train_data, test_data\n",
    "\n",
    "# learn a SVM model\n",
    "# use the model to make prediction\n",
    "# return the model predictions on train and test dataset\n",
    "def svm_classifier(train_data, test_data):\n",
    "    emails = train_data[:][0]\n",
    "    label = train_data[:][1]\n",
    "    clf = svm.SVC()\n",
    "    clf.fit(emails, label)\n",
    "    predict_labels = clf.predict(test_data[:][0])\n",
    "    return predict_labels\n",
    "\n",
    "# implement k-NN algorithm\n",
    "# use the model to make prediction\n",
    "# return the model predictions on train and test dataset\n",
    "def knn_classifier(train_data, test_data):\n",
    "    emails = train_data[:][0]\n",
    "    label = train_data[:][1]\n",
    "    neigh = KNeighborsClassifier(n_neighbors=3)\n",
    "    neigh.fit(emails, label)\n",
    "    predict_labels = neigh.predict(test_data[:][0])\n",
    "    return predict_labels\n",
    "\n",
    "train_data, test_data = split(read_data())\n",
    "svm_train_predictions, svm_test_predictions = svm_classifier(train_data, test_data)\n",
    "knn_train_predictions, knn_test_predictions = knn_classifier(train_data, test_data)"
   ]
  },
  {
   "cell_type": "markdown",
   "metadata": {
    "id": "SlCwYvluHqQz"
   },
   "source": [
    "### Model Evaluation\n",
    "Compare the SVM and k-NN model using metrics\n",
    "- Accuracy\n",
    "- [AUC score](https://scikit-learn.org/stable/modules/generated/sklearn.metrics.auc.html)\n"
   ]
  },
  {
   "cell_type": "code",
   "execution_count": null,
   "metadata": {
    "id": "X3KmcTpqKbGI"
   },
   "outputs": [],
   "source": [
    "from sklearn import metrics\n",
    "\n",
    "# compute accuracy \n",
    "def compute_accuracy(true_labels, predicted_labels):\n",
    "    x = 0\n",
    "    for i in range(0,len(predicted_labels)):\n",
    "        if predicted_labels[i] == true_labels[i]:\n",
    "            x++\n",
    "    acc = float(x/len(predicted_labels)*100)\n",
    "    return acc\n",
    "\n",
    "# compute AUC score \n",
    "def compute_auc(true_labels, predicted_labels):\n",
    "    y = true_labels\n",
    "    pred = predicted_labels\n",
    "    fpr, tpr, thresholds = metrics.roc_curve(y, pred, pos_label=2)\n",
    "    auc = metrics.auc(fpr, tpr)\n",
    "    return auc\n",
    "\n",
    "# write code to print train and test accuracy and AUC score of SVM and k-NN classifier\n",
    "def print_metrics(true_labels, predicted_labels,model,dataType):\n",
    "    print(f\"Accuracy of {model} for {dataType}: {compute_accuracy(true_labels, predicted_labels)}%\")\n",
    "    print(f\"Area Under the Curve of {model} for {dataType}: {compute_auc(true_labels, predicted_labels)}\")\n",
    "\n",
    "print_metrics(train_data[:][1],svm_test_predictions,\"SVM\",\"train data\")\n",
    "print_metrics(train_data[:][1],knn_test_predictions,\"KNN\",\"train data\")\n",
    "print_metrics(test_data[:][1],svm_test_predictions,\"SVM\",\"test data\")\n",
    "print_metrics(test_data[:][1],knn_test_predictions,\"KNN\",\"test data\")"
   ]
  }
 ],
 "metadata": {
  "colab": {
   "collapsed_sections": [],
   "name": "python-assignment.ipynb",
   "provenance": []
  },
  "kernelspec": {
   "display_name": "Python 3",
   "name": "python3"
  },
  "language_info": {
   "codemirror_mode": {
    "name": "ipython",
    "version": 3
   },
   "file_extension": ".py",
   "mimetype": "text/x-python",
   "name": "python",
   "nbconvert_exporter": "python",
   "pygments_lexer": "ipython3",
   "version": "3.8.8"
  }
 },
 "nbformat": 4,
 "nbformat_minor": 0
}
