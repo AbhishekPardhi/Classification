{
 "cells": [
  {
   "cell_type": "markdown",
   "metadata": {
    "id": "BKCrcukdE8Bb"
   },
   "source": [
    "# Assignment: Classification\n",
    "\n",
    "Classification refers to categorizing the given data into classes. For example,\n",
    "- Given an image of hand-written character, identifying the character (multi-class classification)\n",
    "- Given an image, annotating it with all the objects present in the image (multi-label classification)\n",
    "- Classifying an email as spam or non-spam (binary classification)\n",
    "- Classifying a tumor as benign or malignant and so on\n",
    "\n",
    "In this assignment, we will be building a classifier to classify emails as spam or non-spam. We will be using the Kaggle dataset [Spam or Not Spam Dataset](https://www.kaggle.com/datasets/ozlerhakan/spam-or-not-spam-dataset?resource=download) for this task. \n",
    "\n",
    "**Note**: You cannot load any libraries other than the mentioned ones.\n",
    "\n",
    "\n"
   ]
  },
  {
   "cell_type": "markdown",
   "metadata": {
    "id": "Irp6f7_2crfu"
   },
   "source": [
    "### Data pre-processing\n",
    "The first step in every machine learning algorithm is to process the raw data in some meaningful representations. We will be using the [Bag-of-Words](https://towardsdatascience.com/a-simple-explanation-of-the-bag-of-words-model-b88fc4f4971) representation to process the text. It comprises of following steps:\n",
    "\n",
    "- Process emails line-by-line to extract all the words.\n",
    "- Replace extracted words by their stem (root) word. This is known as stemming and lematization.\n",
    "- Remove stop words like and, or, is, am, and so on.\n",
    "- Assign a unique index to each word. This forms the vocabulary.\n",
    "- Represent each email as a binary vector of length equal to the size of the vocabulary such that the $i^{th}$ element of the vector is 1 iff the $i^th$ word is present in the email.\n",
    "\n",
    "Here we provide you with the function signature along with the expected functionality. You are expected to complete them accordingly. "
   ]
  },
  {
   "cell_type": "code",
   "execution_count": 4,
   "metadata": {
    "id": "wIlTOyyPn-mN"
   },
   "outputs": [
    {
     "name": "stdout",
     "output_type": "stream",
     "text": [
      "[[[0, 1, 1, 1, 1, 1, 1, 1, 1, 1, 1, 1, 1, 1, 1, 1, 1, 1, 1, 1, 1, 1, 1, 1, 1, 1, 1, 1, 1, 1, 1, 1, 1, 1, 1, 1, 1, 1, 1, 1, 1, 1, 1, 1, 1, 1, 1, 1, 1, 1, 1, 1, 1, 1, 1, 1, 1, 1, 1, 1, 1, 1, 1, 1, 1, 1, 1, 1, 1, 1, 1, 1, 1, 1, 1, 1, 1, 1, 1, 1, 1, 1, 1, 1, 1, 1, 1, 1, 1, 1, 1, 1], 0], [[0, 0, 0, 1, 0, 0, 0, 0, 0, 0, 0, 0, 0, 0, 0, 0, 0, 0, 0, 0, 0, 0, 0, 0, 0, 0, 0, 0, 0, 0, 0, 0, 1, 0, 0, 0, 0, 0, 0, 0, 0, 0, 0, 0, 0, 0, 0, 0, 0, 0, 0, 0, 1, 0, 1, 0, 0, 0, 0, 0, 0, 0, 0, 0, 0, 0, 0, 0, 0, 0, 0, 0, 0, 0, 0, 0, 0, 0, 0, 0, 0, 0, 0, 0, 0, 0, 0, 0, 0, 0, 0, 0, 1, 1, 1, 1, 1, 1, 1, 1, 1, 1, 1, 1, 1, 1, 1, 1, 1, 1, 1, 1, 1, 1, 1, 1, 1, 1, 1, 1, 1, 1, 1, 1, 1, 1, 1, 1, 1, 1, 1, 1, 1, 1, 1, 1, 1, 1, 1, 1, 1, 1, 1, 1], 0], [[0, 0, 0, 1, 0, 0, 0, 0, 0, 0, 0, 0, 0, 0, 0, 0, 0, 0, 0, 0, 0, 0, 0, 0, 0, 0, 0, 0, 0, 0, 0, 0, 1, 0, 0, 0, 0, 0, 0, 0, 0, 0, 0, 0, 0, 0, 0, 0, 0, 0, 0, 0, 1, 0, 1, 0, 0, 0, 0, 0, 0, 0, 0, 0, 0, 0, 0, 0, 0, 0, 1, 0, 0, 0, 0, 0, 0, 0, 0, 0, 0, 0, 0, 0, 0, 0, 0, 0, 0, 0, 0, 0, 0, 0, 0, 0, 0, 0, 0, 0, 0, 0, 0, 0, 0, 0, 0, 0, 0, 0, 0, 1, 0, 0, 0, 0, 0, 0, 0, 0, 1, 0, 0, 0, 0, 0, 0, 0, 0, 0, 0, 0, 0, 1, 1, 1, 1, 1, 1, 1, 1, 1, 1, 1, 1, 1, 1, 1, 1, 1, 1, 1, 1, 1, 1, 1, 1, 1, 1, 1, 1, 1, 1, 1, 1, 1, 1, 1, 1, 1, 1, 1, 1, 1, 1, 1, 1, 1, 1, 1, 1, 1, 1, 1, 1, 1, 1, 1, 1, 1, 1, 1, 1, 1, 1, 1, 1, 1, 1, 1, 1, 1, 1, 1, 1, 1, 1, 1, 1, 1, 1, 1, 1, 1, 1, 1, 1, 1, 1, 1, 1, 1, 1, 1, 1, 1, 1], 0], [[0, 0, 0, 1, 0, 0, 0, 0, 0, 0, 1, 0, 0, 0, 0, 0, 0, 0, 0, 1, 1, 0, 0, 0, 0, 0, 0, 0, 0, 0, 1, 0, 0, 0, 0, 0, 0, 0, 0, 0, 0, 0, 0, 0, 0, 0, 0, 0, 0, 0, 0, 0, 1, 0, 1, 0, 0, 0, 0, 0, 0, 0, 0, 0, 0, 0, 0, 0, 0, 0, 0, 0, 0, 0, 0, 0, 0, 0, 0, 0, 0, 0, 0, 0, 0, 0, 1, 0, 1, 0, 0, 1, 0, 1, 0, 0, 0, 0, 0, 0, 0, 0, 0, 0, 0, 0, 0, 0, 0, 0, 0, 0, 0, 0, 0, 0, 0, 0, 0, 0, 0, 0, 0, 0, 0, 0, 0, 0, 0, 0, 0, 0, 0, 0, 0, 0, 0, 0, 0, 0, 0, 0, 0, 0, 0, 0, 0, 1, 1, 0, 0, 1, 0, 0, 0, 0, 0, 0, 0, 0, 0, 0, 0, 0, 0, 0, 0, 1, 0, 0, 1, 0, 0, 0, 0, 0, 0, 0, 0, 0, 0, 0, 0, 0, 0, 0, 0, 0, 0, 0, 0, 0, 0, 0, 0, 0, 0, 0, 0, 0, 0, 0, 0, 0, 0, 0, 0, 0, 1, 0, 0, 0, 0, 0, 0, 0, 0, 0, 0, 0, 0, 0, 1, 0, 0, 0, 0, 1, 1, 1, 1, 1, 1, 1, 1, 1, 1, 1, 1, 1, 1, 1, 1, 1, 1, 1, 1, 1, 1, 1, 1, 1, 1, 1, 1, 1, 1, 1, 1, 1, 1, 1, 1, 1, 1, 1, 1, 1, 1, 1, 1, 1, 1, 1, 1, 1, 1, 1, 1, 1, 1, 1, 1, 1, 1], 0]]\n"
     ]
    }
   ],
   "source": [
    "import numpy as np\n",
    "from nltk.stem import PorterStemmer\n",
    "from nltk.corpus import stopwords\n",
    "# import nltk\n",
    "# nltk.download('punkt')\n",
    "# nltk.download('wordnet')\n",
    "# nltk.download('omw-1.4')\n",
    "# nltk.download('stopwords')\n",
    "\n",
    "vocabulary = []\n",
    "stemmer = PorterStemmer()\n",
    "stop = stopwords.words()\n",
    "\n",
    "# takes an email as an argument\n",
    "# read email line-by-line and extract all the words\n",
    "# return list of extracted words\n",
    "def read_email(email):\n",
    "    words = email.split()\n",
    "    return words\n",
    "\n",
    "# takes a list of words as an argument\n",
    "# replace each word by their stem word\n",
    "# return list of stem words\n",
    "def stemming(words):\n",
    "    stem_words = [stemmer.stem(word) for word in words]\n",
    "    return stem_words\n",
    "\n",
    "# takes a list of stem-words as an argument\n",
    "# remove stop words\n",
    "# return list of stem words after removing stop words\n",
    "def remove_stop_words(words):\n",
    "    stem_no_stop_words = []\n",
    "    for word in words:\n",
    "        if word not in stop:\n",
    "            stem_no_stop_words.append(word)\n",
    "    return stem_no_stop_words\n",
    "\n",
    "# takes a list of stem-words as an argument\n",
    "# add new words to the vocabulary and assign a unique index to them\n",
    "# returns new vocabulary\n",
    "def build_vocabulary(words):\n",
    "    for word in words:\n",
    "        if(word not in vocabulary):\n",
    "            vocabulary.append(word)\n",
    "    return vocabulary\n",
    "\n",
    " # takes a list of stem-words and vocabulary as an argument\n",
    "# returns bow representation\n",
    "def get_bow(words, vocabWords):\n",
    "    email_bow = [0]*(len(vocabWords)+1)\n",
    "    for word in words:\n",
    "        email_bow[vocabWords.index(word)+1] = 1\n",
    "    return email_bow\n",
    "\n",
    "# wrapper function\n",
    "def text_to_bow(email):\n",
    "    words = remove_stop_words(stemming(read_email(email)))\n",
    "    bow = get_bow(words, build_vocabulary(words))\n",
    "    return bow\n",
    "\n",
    "# read the entire dataset\n",
    "# convert emails to bow and maintain their labels\n",
    "# call function text_to_bow()\n",
    "def read_data():\n",
    "    inputFileName = str(input(\"Please type the email file name you want to check for spam: \"))\n",
    "    data = np.genfromtxt(inputFileName, encoding = \"utf8\", dtype = \"str\", delimiter = \",\")\n",
    "    # print(data)\n",
    "    newData = []\n",
    "    for i in range(0,len(data)):\n",
    "        if i == 0:\n",
    "            continue\n",
    "        newData.append([text_to_bow(data[i][0]),int(data[i][1].rstrip())])\n",
    "        # print(i)\n",
    "    return newData\n",
    "\n",
    "# print(read_data())\n",
    "data = read_data()\n",
    "print(data)"
   ]
  },
  {
   "cell_type": "markdown",
   "metadata": {
    "id": "d0cDiGt6nkPY"
   },
   "source": [
    "### Data Visualization\n",
    "Let's understand the data distribution\n",
    "- Visualize the frequency of word-occurrence in all the emails(spam + non-spam)\n",
    "- Visualize the frequency of word-occurrence for spam and non-spam emails separately"
   ]
  },
  {
   "cell_type": "code",
   "execution_count": 5,
   "metadata": {
    "id": "4vJLcTxDLZsh"
   },
   "outputs": [
    {
     "data": {
      "image/png": "[encoded data removed]",
      "text/plain": [
       "<Figure size 720x360 with 1 Axes>"
      ]
     },
     "metadata": {
      "needs_background": "light"
     },
     "output_type": "display_data"
    },
    {
     "data": {
      "image/png": "[encoded data removed]",
      "text/plain": [
       "<Figure size 720x360 with 1 Axes>"
      ]
     },
     "metadata": {
      "needs_background": "light"
     },
     "output_type": "display_data"
    },
    {
     "data": {
      "image/png": "[encoded data removed]",
      "text/plain": [
       "<Figure size 720x360 with 1 Axes>"
      ]
     },
     "metadata": {
      "needs_background": "light"
     },
     "output_type": "display_data"
    },
    {
     "data": {
      "image/png": "[encoded data removed]",
      "text/plain": [
       "<Figure size 1152x648 with 1 Axes>"
      ]
     },
     "metadata": {
      "needs_background": "light"
     },
     "output_type": "display_data"
    }
   ],
   "source": [
    "import matplotlib.pyplot as plt\n",
    "\n",
    "# visuallze data distribution\n",
    "def data_vis(data):\n",
    "    # plt.style.use('_mpl-gallery')\n",
    "\n",
    "    sum = np.array([0]*(len(vocabulary)+1))\n",
    "    sum_spam = np.array([0]*(len(vocabulary)+1))\n",
    "    sum_non_spam = np.array([0]*(len(vocabulary)+1))\n",
    "\n",
    "    # sum = np.sum(int(data[:][0]),axis = 0)\n",
    "    for line in data:\n",
    "        if(line[1]==1):\n",
    "            sum_spam += np.array(line[1])\n",
    "        else:\n",
    "            sum_non_spam += np.array(line[1])\n",
    "            sum += np.array(line[1])\n",
    "\n",
    "    fig = plt.figure(figsize = (10, 5))\n",
    "    plt.bar(vocabulary, sum[1:], color ='blue', width = 0.1)\n",
    "    plt.xlabel(\"Vocabulary\")\n",
    "    plt.ylabel(\"Frequency\")\n",
    "    plt.title(\"Data Visualization of frequency of word-occurrence in all the emails\")\n",
    "    ax = plt.gca()\n",
    "    ax.axes.xaxis.set_ticklabels([])\n",
    "    ax.axes.yaxis.set_ticklabels([])\n",
    "    plt.show()\n",
    "\n",
    "    fig = plt.figure(figsize = (10, 5))\n",
    "    plt.bar(vocabulary, sum_spam[1:], color ='red', width = 0.1)\n",
    "    plt.xlabel(\"Vocabulary\")\n",
    "    plt.ylabel(\"Frequency\")\n",
    "    plt.title(\"Data Visualization of frequency of word-occurrence in spam emails\")\n",
    "    ax = plt.gca()\n",
    "    ax.axes.xaxis.set_ticklabels([])\n",
    "    ax.axes.yaxis.set_ticklabels([])\n",
    "    plt.show()\n",
    "\n",
    "    fig = plt.figure(figsize = (10, 5))\n",
    "    plt.bar(vocabulary, sum_non_spam[1:], color ='green', width = 0.1)\n",
    "    plt.xlabel(\"Vocabulary\")\n",
    "    plt.ylabel(\"Frequency\")\n",
    "    plt.title(\"Data Visualization of frequency of word-occurrence in non-spam emails\")\n",
    "    ax = plt.gca()\n",
    "    ax.axes.xaxis.set_ticklabels([])\n",
    "    ax.axes.yaxis.set_ticklabels([])\n",
    "    plt.show()\n",
    "\n",
    "    fig, ax = plt.subplots(figsize =(16, 9))\n",
    "    ax.barh(vocabulary, sum[1:])\n",
    "    for s in ['top', 'bottom', 'left', 'right']:\n",
    "        ax.spines[s].set_visible(False)\n",
    "    ax.xaxis.set_ticks_position('none')\n",
    "    ax.yaxis.set_ticks_position('none')\n",
    "    ax.xaxis.set_tick_params(pad = 5)\n",
    "    ax.yaxis.set_tick_params(pad = 10)\n",
    "    ax.invert_yaxis()\n",
    "    for i in ax.patches:\n",
    "        plt.text(i.get_width()+0.2, i.get_y()+0.5,\n",
    "             str(round((i.get_width()), 2)),\n",
    "             fontsize = 10, fontweight ='bold',\n",
    "             color ='grey')\n",
    "    ax.set_title('Frequency of words-occurrence in all the mails',\n",
    "             loc ='left', )\n",
    "    ax = plt.gca()\n",
    "    ax.axes.xaxis.set_ticklabels([])\n",
    "    ax.axes.yaxis.set_ticklabels([])\n",
    "    plt.show()\n",
    "\n",
    "    return\n",
    "\n",
    "data_vis(data)"
   ]
  },
  {
   "cell_type": "markdown",
   "metadata": {
    "id": "LPq-3nTzGcdX"
   },
   "source": [
    "### Learn a Classifier\n",
    "Split the dataset randomly in the ratio 80:20 as the training and test dataset. Use only training dataset to learn the classifier. No test data should be used during training. Test data will only be used during evaluation.\n",
    "\n",
    "Now let us try to use ML algorithms to classify emails as spam or non-spam. You are supposed to implement [SVM](https://scikit-learn.org/stable/modules/svm.html) and [K-Nearest Neighbour](https://scikit-learn.org/stable/modules/generated/sklearn.neighbors.KNeighborsClassifier.html) algorithm available in scikit-learn using the same training dataset for both."
   ]
  },
  {
   "cell_type": "code",
   "execution_count": 6,
   "metadata": {
    "id": "IMpuaPCKHxwh"
   },
   "outputs": [
    {
     "ename": "TypeError",
     "evalue": "only integer scalar arrays can be converted to a scalar index",
     "output_type": "error",
     "traceback": [
      "\u001b[1;31m---------------------------------------------------------------------------\u001b[0m",
      "\u001b[1;31mTypeError\u001b[0m                                 Traceback (most recent call last)",
      "\u001b[1;32mc:\\Users\\abhip\\OneDrive - IIT Kanpur\\Docs\\Classification\\python_assignment.ipynb Cell 7'\u001b[0m in \u001b[0;36m<cell line: 33>\u001b[1;34m()\u001b[0m\n\u001b[0;32m     <a href='vscode-notebook-cell:/c%3A/Users/abhip/OneDrive%20-%20IIT%20Kanpur/Docs/Classification/python_assignment.ipynb#ch0000006?line=29'>30</a>\u001b[0m     predict_labels \u001b[39m=\u001b[39m neigh\u001b[39m.\u001b[39mpredict(test_data[:][\u001b[39m0\u001b[39m])\n\u001b[0;32m     <a href='vscode-notebook-cell:/c%3A/Users/abhip/OneDrive%20-%20IIT%20Kanpur/Docs/Classification/python_assignment.ipynb#ch0000006?line=30'>31</a>\u001b[0m     \u001b[39mreturn\u001b[39;00m predict_labels\n\u001b[1;32m---> <a href='vscode-notebook-cell:/c%3A/Users/abhip/OneDrive%20-%20IIT%20Kanpur/Docs/Classification/python_assignment.ipynb#ch0000006?line=32'>33</a>\u001b[0m train_data, test_data \u001b[39m=\u001b[39m split(data)\n\u001b[0;32m     <a href='vscode-notebook-cell:/c%3A/Users/abhip/OneDrive%20-%20IIT%20Kanpur/Docs/Classification/python_assignment.ipynb#ch0000006?line=33'>34</a>\u001b[0m svm_train_predictions, svm_test_predictions \u001b[39m=\u001b[39m svm_classifier(train_data, test_data)\n\u001b[0;32m     <a href='vscode-notebook-cell:/c%3A/Users/abhip/OneDrive%20-%20IIT%20Kanpur/Docs/Classification/python_assignment.ipynb#ch0000006?line=34'>35</a>\u001b[0m knn_train_predictions, knn_test_predictions \u001b[39m=\u001b[39m knn_classifier(train_data, test_data)\n",
      "\u001b[1;32mc:\\Users\\abhip\\OneDrive - IIT Kanpur\\Docs\\Classification\\python_assignment.ipynb Cell 7'\u001b[0m in \u001b[0;36msplit\u001b[1;34m(data)\u001b[0m\n\u001b[0;32m      <a href='vscode-notebook-cell:/c%3A/Users/abhip/OneDrive%20-%20IIT%20Kanpur/Docs/Classification/python_assignment.ipynb#ch0000006?line=4'>5</a>\u001b[0m \u001b[39mdef\u001b[39;00m \u001b[39msplit\u001b[39m(data):\n\u001b[0;32m      <a href='vscode-notebook-cell:/c%3A/Users/abhip/OneDrive%20-%20IIT%20Kanpur/Docs/Classification/python_assignment.ipynb#ch0000006?line=5'>6</a>\u001b[0m     mask \u001b[39m=\u001b[39m np\u001b[39m.\u001b[39mrandom\u001b[39m.\u001b[39mrand(\u001b[39mlen\u001b[39m(data)) \u001b[39m<\u001b[39m\u001b[39m=\u001b[39m \u001b[39m0.8\u001b[39m\n\u001b[1;32m----> <a href='vscode-notebook-cell:/c%3A/Users/abhip/OneDrive%20-%20IIT%20Kanpur/Docs/Classification/python_assignment.ipynb#ch0000006?line=6'>7</a>\u001b[0m     train_data \u001b[39m=\u001b[39m data[mask]\n\u001b[0;32m      <a href='vscode-notebook-cell:/c%3A/Users/abhip/OneDrive%20-%20IIT%20Kanpur/Docs/Classification/python_assignment.ipynb#ch0000006?line=7'>8</a>\u001b[0m     test_data \u001b[39m=\u001b[39m data[\u001b[39m~\u001b[39mmask]\n\u001b[0;32m      <a href='vscode-notebook-cell:/c%3A/Users/abhip/OneDrive%20-%20IIT%20Kanpur/Docs/Classification/python_assignment.ipynb#ch0000006?line=8'>9</a>\u001b[0m     \u001b[39mreturn\u001b[39;00m train_data, test_data\n",
      "\u001b[1;31mTypeError\u001b[0m: only integer scalar arrays can be converted to a scalar index"
     ]
    }
   ],
   "source": [
    "from sklearn.neighbors import KNeighborsClassifier\n",
    "from sklearn import svm\n",
    "\n",
    "# split dataset\n",
    "def split(data):\n",
    "    mask = np.random.rand(len(data)) <= 0.8\n",
    "    train_data = data[mask]\n",
    "    test_data = data[~mask]\n",
    "    return train_data, test_data\n",
    "\n",
    "# learn a SVM model\n",
    "# use the model to make prediction\n",
    "# return the model predictions on train and test dataset\n",
    "def svm_classifier(train_data, test_data):\n",
    "    emails = train_data[:][0]\n",
    "    label = train_data[:][1]\n",
    "    clf = svm.SVC()\n",
    "    clf.fit(emails, label)\n",
    "    predict_labels = clf.predict(test_data[:][0])\n",
    "    return predict_labels\n",
    "\n",
    "# implement k-NN algorithm\n",
    "# use the model to make prediction\n",
    "# return the model predictions on train and test dataset\n",
    "def knn_classifier(train_data, test_data):\n",
    "    emails = train_data[:][0]\n",
    "    label = train_data[:][1]\n",
    "    neigh = KNeighborsClassifier(n_neighbors=3)\n",
    "    neigh.fit(emails, label)\n",
    "    predict_labels = neigh.predict(test_data[:][0])\n",
    "    return predict_labels\n",
    "\n",
    "train_data, test_data = split(data)\n",
    "svm_train_predictions, svm_test_predictions = svm_classifier(train_data, test_data)\n",
    "knn_train_predictions, knn_test_predictions = knn_classifier(train_data, test_data)"
   ]
  },
  {
   "cell_type": "markdown",
   "metadata": {
    "id": "SlCwYvluHqQz"
   },
   "source": [
    "### Model Evaluation\n",
    "Compare the SVM and k-NN model using metrics\n",
    "- Accuracy\n",
    "- [AUC score](https://scikit-learn.org/stable/modules/generated/sklearn.metrics.auc.html)\n"
   ]
  },
  {
   "cell_type": "code",
   "execution_count": null,
   "metadata": {
    "id": "X3KmcTpqKbGI"
   },
   "outputs": [],
   "source": [
    "from sklearn import metrics\n",
    "\n",
    "# compute accuracy \n",
    "def compute_accuracy(true_labels, predicted_labels):\n",
    "    acc = metrics.accuracy_score(true_labels, predicted_labels)\n",
    "    return acc\n",
    "\n",
    "# compute AUC score \n",
    "def compute_auc(true_labels, predicted_labels):\n",
    "    auc = metrics.roc_auc_score(true_labels, predicted_labels)\n",
    "    return auc\n",
    "\n",
    "# write code to print train and test accuracy and AUC score of SVM and k-NN classifier\n",
    "def print_metrics(true_labels, predicted_labels,model,dataType):\n",
    "    print(f\"Accuracy of {model} for {dataType}: {compute_accuracy(true_labels, predicted_labels)}%\")\n",
    "    print(f\"Area Under the Curve of {model} for {dataType}: {compute_auc(true_labels, predicted_labels)}\")\n",
    "\n",
    "print_metrics(train_data[:][1],svm_test_predictions,\"SVM\",\"train data\")\n",
    "print_metrics(train_data[:][1],knn_test_predictions,\"KNN\",\"train data\")\n",
    "print_metrics(test_data[:][1],svm_test_predictions,\"SVM\",\"test data\")\n",
    "print_metrics(test_data[:][1],knn_test_predictions,\"KNN\",\"test data\")"
   ]
  },
  {
   "cell_type": "code",
   "execution_count": null,
   "metadata": {},
   "outputs": [],
   "source": [
    "import numpy as np\n",
    "a = [1,1]\n",
    "b= [2,2]\n",
    "print(a+b)"
   ]
  }
 ],
 "metadata": {
  "colab": {
   "collapsed_sections": [],
   "name": "python-assignment.ipynb",
   "provenance": []
  },
  "kernelspec": {
   "display_name": "Python 3",
   "name": "python3"
  },
  "language_info": {
   "codemirror_mode": {
    "name": "ipython",
    "version": 3
   },
   "file_extension": ".py",
   "mimetype": "text/x-python",
   "name": "python",
   "nbconvert_exporter": "python",
   "pygments_lexer": "ipython3",
   "version": "3.8.8"
  }
 },
 "nbformat": 4,
 "nbformat_minor": 0
}
